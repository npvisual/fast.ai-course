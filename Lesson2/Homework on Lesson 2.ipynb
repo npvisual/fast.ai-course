{
 "cells": [
  {
   "cell_type": "markdown",
   "metadata": {},
   "source": [
    "# Lesson 2 : testing the first example on linear model\n",
    "\n",
    "## Understanding the model\n",
    "\n",
    "So it looks like the first example given in the notebook is using the gradient descent to find the parameters of the equation used to calculate the output (Y) from the input (X)."
   ]
  },
  {
   "cell_type": "markdown",
   "metadata": {},
   "source": [
    "$Y = X * \\binom{2}{3} + 1$"
   ]
  },
  {
   "cell_type": "markdown",
   "metadata": {},
   "source": [
    "This example is only looking at 1 layer (`Dense`) for an input size of `30x2` and an output of `1x30`.\n",
    "\n",
    "Below I shortened the `import` section as much as I could to only retain the necessary modules."
   ]
  },
  {
   "cell_type": "code",
   "execution_count": 1,
   "metadata": {},
   "outputs": [
    {
     "name": "stderr",
     "output_type": "stream",
     "text": [
      "Using Theano backend.\n"
     ]
    }
   ],
   "source": [
    "import os, sys\n",
    "current_dir = os.getcwd()\n",
    "LESSON_HOME_DIR = current_dir\n",
    "# Allow relative imports to directories above the\n",
    "# lesson folders to get access to utils.py\n",
    "sys.path.insert(1, os.path.join(sys.path[0], '..'))\n",
    "\n",
    "# Rather than importing everything manually, we'll make things easy\n",
    "# and load them all in utils.py, and just import them from there.\n",
    "%matplotlib inline\n",
    "import utils; reload(utils)\n",
    "from utils import *"
   ]
  },
  {
   "cell_type": "code",
   "execution_count": 2,
   "metadata": {},
   "outputs": [],
   "source": [
    "import numpy as np\n",
    "np.set_printoptions(precision=4, linewidth=100)\n",
    "\n",
    "from numpy.random import random\n",
    "from utils import plots, get_batches, plot_confusion_matrix, get_data\n",
    "\n",
    "import keras\n",
    "from keras.models import Sequential"
   ]
  },
  {
   "cell_type": "code",
   "execution_count": 3,
   "metadata": {},
   "outputs": [],
   "source": [
    "x = random((30,2))"
   ]
  },
  {
   "cell_type": "code",
   "execution_count": 4,
   "metadata": {
    "scrolled": true
   },
   "outputs": [
    {
     "data": {
      "text/plain": [
       "array([[ 0.3869,  0.6284],\n",
       "       [ 0.2361,  0.1706],\n",
       "       [ 0.8893,  0.6298],\n",
       "       [ 0.6004,  0.3427],\n",
       "       [ 0.035 ,  0.9636]])"
      ]
     },
     "execution_count": 4,
     "metadata": {},
     "output_type": "execute_result"
    }
   ],
   "source": [
    "x[:5]"
   ]
  },
  {
   "cell_type": "code",
   "execution_count": 5,
   "metadata": {},
   "outputs": [],
   "source": [
    "y = x.dot([2,3])+1"
   ]
  },
  {
   "cell_type": "code",
   "execution_count": 6,
   "metadata": {},
   "outputs": [
    {
     "data": {
      "text/plain": [
       "array([ 3.659 ,  1.9842,  4.6681,  3.2289,  3.9609,  5.1587,  3.2847,  2.5479,  2.4693,  3.0463,\n",
       "        3.645 ,  3.4343,  1.9311,  4.3539,  2.926 ,  4.2794,  1.933 ,  3.0446,  4.6799,  4.7203,\n",
       "        2.622 ,  1.8016,  4.3305,  2.0346,  3.1238,  4.102 ,  3.9062,  3.9996,  3.4122,  3.0689])"
      ]
     },
     "execution_count": 6,
     "metadata": {},
     "output_type": "execute_result"
    }
   ],
   "source": [
    "y"
   ]
  },
  {
   "cell_type": "code",
   "execution_count": 7,
   "metadata": {},
   "outputs": [
    {
     "name": "stdout",
     "output_type": "stream",
     "text": [
      "0.469913473886\n",
      "0.0644278676374\n"
     ]
    }
   ],
   "source": [
    "print(x.mean())\n",
    "print(x.var())"
   ]
  },
  {
   "cell_type": "markdown",
   "metadata": {},
   "source": [
    "So we essentially have a `30x2` matrix as input (X) which will get associated with a set of weights, i.e. a vector `2x1`. Those weights will eventually need to match, or get very close, to the vector we used to multiple X in order to get Y.\n",
    "\n",
    "The dot product of the matrix and the weight vector will then need to be adjusted (bias ?).\n",
    "\n",
    "### Building the model\n",
    "\n",
    "So we create a linear model (via `Sequential`) which only includes one layer : `Dense`."
   ]
  },
  {
   "cell_type": "code",
   "execution_count": 8,
   "metadata": {},
   "outputs": [],
   "source": [
    "lm = Sequential()\n",
    "lm.add(Dense(1,input_shape=(2,)))\n",
    "lm.compile(optimizer=SGD(lr=0.1),loss=\"mse\",)"
   ]
  },
  {
   "cell_type": "code",
   "execution_count": 9,
   "metadata": {},
   "outputs": [
    {
     "name": "stdout",
     "output_type": "stream",
     "text": [
      "____________________________________________________________________________________________________\n",
      "Layer (type)                     Output Shape          Param #     Connected to                     \n",
      "====================================================================================================\n",
      "dense_1 (Dense)                  (None, 1)             3           dense_input_1[0][0]              \n",
      "====================================================================================================\n",
      "Total params: 3\n",
      "Trainable params: 3\n",
      "Non-trainable params: 0\n",
      "____________________________________________________________________________________________________\n"
     ]
    }
   ],
   "source": [
    "lm.summary()"
   ]
  },
  {
   "cell_type": "code",
   "execution_count": 10,
   "metadata": {},
   "outputs": [
    {
     "data": {
      "text/plain": [
       "[array([[-0.4885],\n",
       "        [-0.5648]], dtype=float32), array([ 0.], dtype=float32)]"
      ]
     },
     "execution_count": 10,
     "metadata": {},
     "output_type": "execute_result"
    }
   ],
   "source": [
    "lm.get_weights()"
   ]
  },
  {
   "cell_type": "markdown",
   "metadata": {},
   "source": [
    "The weights are completely random at the beginning. So, compared to our data set, the loss function should be really high :"
   ]
  },
  {
   "cell_type": "code",
   "execution_count": 11,
   "metadata": {},
   "outputs": [
    {
     "name": "stdout",
     "output_type": "stream",
     "text": [
      "30/30 [==============================] - 0s\n"
     ]
    },
    {
     "data": {
      "text/plain": [
       "16.270622253417969"
      ]
     },
     "execution_count": 11,
     "metadata": {},
     "output_type": "execute_result"
    }
   ],
   "source": [
    "lm.evaluate(x,y,verbose=1)"
   ]
  },
  {
   "cell_type": "markdown",
   "metadata": {},
   "source": [
    "### Adding the input and output\n",
    "\n",
    "Let's now add the input / output and try to fit the model to get better weights."
   ]
  },
  {
   "cell_type": "code",
   "execution_count": 12,
   "metadata": {},
   "outputs": [
    {
     "name": "stdout",
     "output_type": "stream",
     "text": [
      "Epoch 1/10\n",
      "30/30 [==============================] - 0s - loss: 1.3678      \n",
      "Epoch 2/10\n",
      "30/30 [==============================] - 0s - loss: 0.2641     \n",
      "Epoch 3/10\n",
      "30/30 [==============================] - 0s - loss: 0.1486     \n",
      "Epoch 4/10\n",
      "30/30 [==============================] - 0s - loss: 0.0912     \n",
      "Epoch 5/10\n",
      "30/30 [==============================] - 0s - loss: 0.0455     \n",
      "Epoch 6/10\n",
      "30/30 [==============================] - 0s - loss: 0.0271     \n",
      "Epoch 7/10\n",
      "30/30 [==============================] - 0s - loss: 0.0155     \n",
      "Epoch 8/10\n",
      "30/30 [==============================] - 0s - loss: 0.0082     \n",
      "Epoch 9/10\n",
      "30/30 [==============================] - 0s - loss: 0.0049     \n",
      "Epoch 10/10\n",
      "30/30 [==============================] - 0s - loss: 0.0028     \n"
     ]
    },
    {
     "data": {
      "text/plain": [
       "<keras.callbacks.History at 0x115462e90>"
      ]
     },
     "execution_count": 12,
     "metadata": {},
     "output_type": "execute_result"
    }
   ],
   "source": [
    "lm.fit(x,y,nb_epoch=10,batch_size=1,verbose=1)"
   ]
  },
  {
   "cell_type": "markdown",
   "metadata": {},
   "source": [
    "Based on the value of the loss function (`mse`), which is getting smaller and smaller as the number of epoch (passes) increases, we should be getting closer to our original numbers of : `2, 3 and 1`.\n"
   ]
  },
  {
   "cell_type": "code",
   "execution_count": 13,
   "metadata": {},
   "outputs": [
    {
     "name": "stdout",
     "output_type": "stream",
     "text": [
      "30/30 [==============================] - 0s\n"
     ]
    },
    {
     "data": {
      "text/plain": [
       "0.0016251878114417195"
      ]
     },
     "execution_count": 13,
     "metadata": {},
     "output_type": "execute_result"
    }
   ],
   "source": [
    "lm.evaluate(x,y,verbose=1)"
   ]
  },
  {
   "cell_type": "code",
   "execution_count": 14,
   "metadata": {},
   "outputs": [
    {
     "data": {
      "text/plain": [
       "[array([[ 1.9066],\n",
       "        [ 2.882 ]], dtype=float32), array([ 1.1116], dtype=float32)]"
      ]
     },
     "execution_count": 14,
     "metadata": {},
     "output_type": "execute_result"
    }
   ],
   "source": [
    "lm.get_weights()"
   ]
  },
  {
   "cell_type": "markdown",
   "metadata": {},
   "source": [
    "### Is more, better ?\n",
    "\n",
    "What happens if we do another round of fitting with 20 epochs ? Will the values get that much better ?"
   ]
  },
  {
   "cell_type": "code",
   "execution_count": 15,
   "metadata": {},
   "outputs": [
    {
     "name": "stdout",
     "output_type": "stream",
     "text": [
      "Epoch 1/20\n",
      "30/30 [==============================] - 0s - loss: 0.0015         \n",
      "Epoch 2/20\n",
      "30/30 [==============================] - 0s - loss: 7.4361e-04     \n",
      "Epoch 3/20\n",
      "30/30 [==============================] - 0s - loss: 5.2676e-04 \n",
      "Epoch 4/20\n",
      "30/30 [==============================] - 0s - loss: 2.8906e-04     \n",
      "Epoch 5/20\n",
      "30/30 [==============================] - 0s - loss: 1.6705e-04     \n",
      "Epoch 6/20\n",
      "30/30 [==============================] - 0s - loss: 9.4065e-05     \n",
      "Epoch 7/20\n",
      "30/30 [==============================] - 0s - loss: 4.8375e-05     \n",
      "Epoch 8/20\n",
      "30/30 [==============================] - 0s - loss: 2.7320e-05     \n",
      "Epoch 9/20\n",
      "30/30 [==============================] - 0s - loss: 1.6547e-05     \n",
      "Epoch 10/20\n",
      "30/30 [==============================] - 0s - loss: 8.1857e-06     \n",
      "Epoch 11/20\n",
      "30/30 [==============================] - 0s - loss: 4.9705e-06     \n",
      "Epoch 12/20\n",
      "30/30 [==============================] - 0s - loss: 2.6024e-06     \n",
      "Epoch 13/20\n",
      "30/30 [==============================] - 0s - loss: 1.2685e-06     \n",
      "Epoch 14/20\n",
      "30/30 [==============================] - 0s - loss: 9.5862e-07     \n",
      "Epoch 15/20\n",
      "30/30 [==============================] - 0s - loss: 5.8193e-07     \n",
      "Epoch 16/20\n",
      "30/30 [==============================] - 0s - loss: 3.4160e-07     \n",
      "Epoch 17/20\n",
      "30/30 [==============================] - 0s - loss: 1.7980e-07     \n",
      "Epoch 18/20\n",
      "30/30 [==============================] - 0s - loss: 1.0713e-07     \n",
      "Epoch 19/20\n",
      "30/30 [==============================] - 0s - loss: 6.4216e-08     \n",
      "Epoch 20/20\n",
      "30/30 [==============================] - 0s - loss: 3.4505e-08     \n"
     ]
    },
    {
     "data": {
      "text/plain": [
       "<keras.callbacks.History at 0x115071a50>"
      ]
     },
     "execution_count": 15,
     "metadata": {},
     "output_type": "execute_result"
    }
   ],
   "source": [
    "lm.fit(x,y,nb_epoch=20,batch_size=1,verbose=1)"
   ]
  },
  {
   "cell_type": "code",
   "execution_count": 16,
   "metadata": {},
   "outputs": [
    {
     "name": "stdout",
     "output_type": "stream",
     "text": [
      "30/30 [==============================] - 0s\n"
     ]
    },
    {
     "data": {
      "text/plain": [
       "2.3474388655131406e-08"
      ]
     },
     "execution_count": 16,
     "metadata": {},
     "output_type": "execute_result"
    }
   ],
   "source": [
    "lm.evaluate(x,y,verbose=1)"
   ]
  },
  {
   "cell_type": "code",
   "execution_count": 17,
   "metadata": {},
   "outputs": [
    {
     "data": {
      "text/plain": [
       "[array([[ 1.9996],\n",
       "        [ 2.9997]], dtype=float32), array([ 1.0004], dtype=float32)]"
      ]
     },
     "execution_count": 17,
     "metadata": {},
     "output_type": "execute_result"
    }
   ],
   "source": [
    "lm.get_weights()"
   ]
  },
  {
   "cell_type": "markdown",
   "metadata": {},
   "source": [
    "Considering how fast (cheap) the model gets to a REALLY close approximation of our initial values, it actually make sense to run a good number of epoch to get that much closer to our expected values.\n",
    "\n",
    "Now this might not be true anymore for much more complex models and time might push us to consider how good of an approximation we want."
   ]
  }
 ],
 "metadata": {
  "kernelspec": {
   "display_name": "Python 2",
   "language": "python",
   "name": "python2"
  },
  "language_info": {
   "codemirror_mode": {
    "name": "ipython",
    "version": 2
   },
   "file_extension": ".py",
   "mimetype": "text/x-python",
   "name": "python",
   "nbconvert_exporter": "python",
   "pygments_lexer": "ipython2",
   "version": "2.7.13"
  }
 },
 "nbformat": 4,
 "nbformat_minor": 2
}
